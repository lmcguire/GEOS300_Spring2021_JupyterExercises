{
 "cells": [
  {
   "cell_type": "markdown",
   "metadata": {},
   "source": [
    "### Introduction to Jupyter notebooks\n",
    "\n",
    "In this class, we will use Jupyter notebooks as a way to introduce you to a couple of modern tools used by Earth surface scientists. Jupyter notebooks will allow you to use Python, which is a computer programming language commonly used for creating numerical models and analyzing data. Throughout the semester we will work with numerical models that have been created using Python. Often, these models will simulate the evolution of a particular landform that we are studying (hillslopes, alluvial channels, bedrock channels, etc). You will not need to modify these models, but will be responcible for using them and interpretting the results. Our goal is that you gain an appreciation for the strengths and weaknesses of computational models, learn how they can be used as a tool to help you interpret what you see in the field, and get experience using a model to test a hypothesis."
   ]
  },
  {
   "cell_type": "markdown",
   "metadata": {},
   "source": [
    "### Cells\n",
    "Jupyter notebooks are composed of different *cells*. If you click near this text, you will see the outline of a box appear. That outline delineates the border of this cell."
   ]
  },
  {
   "cell_type": "markdown",
   "metadata": {},
   "source": [
    "### Markdown cells\n",
    "\n",
    "Cells that contain text (like this one) are called \"markdown\" cells. If you double click on this cell you will be able to edit the text. Try it and see if you can edit the text here. In order to finalize that text and make it appear like the text in the cells above, you need to \"run\" this cell. Look near the top of this Jupyter notebook and you will see a toolbar with icons. If you hover your mouse over an icon, it will tell you what it does. Locate the \"run\" icon and click it. If successful, you should see your modified text displayed in this cell just like the text in the two cells above."
   ]
  },
  {
   "cell_type": "markdown",
   "metadata": {},
   "source": [
    "### Code cells\n",
    "Some cells contain Python code. Sometimes, we will provide code for you that defines variables (just like you can do with a graphing calculator) and then uses their values to perform some more advanced computations. The cell below contains an example that uses the Chezy formula to compute the velocity of water in a stream. Notice that we have defined three variables: depth, slope, and chezy_coefficient. The depth, which is the depth of water in the stream, is given a value of 0.5. The slope of the stream is set equal to 0.01. The value of the chezy coefficient is set equal to 15. Then, Python uses the value of these three variables to compute the velocity using the Chezy equation:\n",
    "\n",
    "$$V=C\\sqrt{hS}$$\n",
    " \n",
    "You don't need to understand how to write this code yourself, but you will need to know how to modify values within a code cell and how to run the code cell to see the result. Click on the code cell below and then click on the \"run cell\" icon near the top of your screen."
   ]
  },
  {
   "cell_type": "code",
   "execution_count": null,
   "metadata": {},
   "outputs": [],
   "source": [
    "# YOU DO NOT NEED TO MODIFY ANY CODE IN THIS CELL\n",
    "depth=0.5\n",
    "slope=0.01\n",
    "chezy_coefficient=15\n",
    "velocity=chezy_coefficient*(depth*slope)**(1/2)\n",
    "print('The velocity of the flow is ' + str(round(velocity,2)) + ' m/s')"
   ]
  },
  {
   "cell_type": "markdown",
   "metadata": {},
   "source": [
    "If you successfully executed the code in the cell block above, you should see the output displayed immediately below the cell. In this case, the output should read \"The velocity of the flow is 1.06 m/s\". \n",
    "\n",
    "The code cell below is identical to the one above. Click on the code cell below and change the depth from 0.5 to 2. Then, hit the \"run cell\" button."
   ]
  },
  {
   "cell_type": "code",
   "execution_count": null,
   "metadata": {},
   "outputs": [],
   "source": [
    "depth=2\n",
    "\n",
    "# YOU DO NOT NEED TO MODIFY ANY OF THE INFORMATION BELOW THIS LINE\n",
    "slope=0.01\n",
    "chezy_coefficient=15\n",
    "velocity=chezy_coefficient*(depth*slope)**(1/2)\n",
    "print('The velocity of the flow is ' + str(round(velocity,2)) + ' m/s')"
   ]
  },
  {
   "cell_type": "markdown",
   "metadata": {},
   "source": [
    "As you might expect, the output is different. The computed velocity is now higher. It should be roughly 2.1 m/s. This is a very simple example, but you will have to make similar types of adjustments to code cells in homework assignments throughout the semester."
   ]
  },
  {
   "cell_type": "markdown",
   "metadata": {},
   "source": [
    "### Creating a plots\n",
    "Here is another example of a task you might be asked to do. Python is great for creating plots of data. Just like in excel, all you need to do is specify the $X$ and $Y$ values that you would like to plot. In the code block below, for example, the first value in $X$ is 1 and the first value in Y is 2. So the first point on the curve that we will plot will be (1,2). The second point on the curve will be (2,4) since 2 is the second value in the variable $X$ and $Y$ is the second value in the variable defined as $Y$. Run the code block below and take a look at the plot that it creates. **You may need to run the code block twice in order for the plot to show up.**"
   ]
  },
  {
   "cell_type": "code",
   "execution_count": null,
   "metadata": {},
   "outputs": [],
   "source": [
    "X=[1,2,3,4,5]\n",
    "Y=[2,4,6,8,10]\n",
    "\n",
    "import matplotlib.pyplot as plt\n",
    "plt.plot(X,Y,'ro-')\n",
    "plt.xlabel('My X Axis Label', fontsize=14)\n",
    "plt.ylabel('My Y Axis Label', fontsize=14)\n",
    "plt.title('My Data!', fontsize=14)\n",
    "plt.show()"
   ]
  },
  {
   "cell_type": "markdown",
   "metadata": {},
   "source": [
    "The above figure shows a plot of the function $Y=2X$. The same code is included in the code block below. Let's suppose we had some other $X$ annd $Y$ data and we wanted to plot it. Change the $X$ and $Y$ values in the code below and then run the code cell. You can change values of X and Y to be anything that you like but each number needs to be seperated by a comma and there needs to the be the same number of values in $X$ as there are in $Y$ (since every point on a curve must be defined by a pair of numbers, one related to the X-coordinate and one related to the Y-coordinate). Examine the plot to make sure it looks correct based on the points that you provided."
   ]
  },
  {
   "cell_type": "code",
   "execution_count": null,
   "metadata": {},
   "outputs": [],
   "source": [
    "X=[1,2,3,4,5]\n",
    "Y=[2,4,6,8,10]\n",
    "\n",
    "# DO NOT CHANGE ANY CODE BELOW THIS LINE\n",
    "import matplotlib.pyplot as plt\n",
    "plt.plot(X,Y,'ro-')\n",
    "plt.xlabel('My X Axis Label', fontsize=14)\n",
    "plt.ylabel('My Y Axis Label', fontsize=14)\n",
    "plt.title('My Data!', fontsize=14)\n",
    "plt.show()"
   ]
  },
  {
   "cell_type": "markdown",
   "metadata": {},
   "source": [
    "There is nothing special about the names of the two variables, $X$ and $Y$, in the example above. Instead of $X$ and $Y$, it is usually best to name our variables in ways that provide some information about the data that they contain. Let's say I used a GPS devide to track how my elevation changed with distance as I went on a hike and then I wanted to make a plot of that data. Then, I might input my data into a code block like the one below. I did a couple of things differently so that it is easier for the reader (you!) to understand what the code is doing. Examine the code block below and notice that:\n",
    "\n",
    "1. I created a variable called \"distance\" since I'm using it to store data that quantifies the distance I walked to get to each measurement point on my hike \n",
    "2. I created a variable called \"elevation\" since I'm using it to contain the data assocaited with the elevation at each measurement point on my hike\n",
    "3. I have included comments in the code block that explain what is happening in important lines of code. All text that follows a \"#\" symbol is a comment. Comments do not affect the output produced by the code - they are only there to help readers understand what the code is doing.\n",
    "4. I have labeled the X and Y axes of the plot so they are informative rather than saying only \"My X Axis Label\"\n",
    "\n",
    "I will employ these strategies throughout the semester within code blocks to help you understand important lines of code, especially the lines of code where I expect you to input data or change the value of a variable. Now that you know to keep an eye out for this type of information within code blocks, your job will be easier. \n",
    "\n",
    "Run the code block below to verify that it works."
   ]
  },
  {
   "cell_type": "code",
   "execution_count": null,
   "metadata": {},
   "outputs": [],
   "source": [
    "distance=[0,250,500,750,1000]      # distance measured in meters\n",
    "elevation=[849,854,872,881,896]    # elevation measured in meters\n",
    "\n",
    "# DO NOT CHANGE ANY CODE BELOW THIS LINE\n",
    "import matplotlib.pyplot as plt\n",
    "plt.plot(distance,elevation,'ro-')\n",
    "plt.xlabel('Elevation (m)', fontsize=14)\n",
    "plt.ylabel('Distance From Trailhead (m)', fontsize=14)\n",
    "plt.title('My Hike in the Catalina Mountains', fontsize=14)\n",
    "plt.show()"
   ]
  },
  {
   "cell_type": "markdown",
   "metadata": {},
   "source": [
    "### Running Numerical Models\n",
    "\n",
    "We will use notebooks to run numerical models, often to test specific hypotheses. In the example below, we will not test a specific hypothesis but we will explore how the morphology of a scarp changes over time.\n",
    "\n",
    "In class, we discussed how sediment flux is linearly related to slope and how this results in a model for the evolution of a hillslope. I have created code that solves this models for hillslope evolution. The model needs two inputs from you in order to work. First, we need an estimate of the empirical coefficient, $D$, that relates slope and sediment flux. The value of $D$ is related to climate and can vary from roughly $0.1$ $\\mathrm{m}^2/\\mathrm{kyr}$ to $20$ $\\mathrm{m}^2/\\mathrm{kyr}$ (sometimes higher in extreme cases).\n",
    "\n",
    "In the code block below, $D=3$ $\\mathrm{m}^2/\\mathrm{kyr}$ and we have the variable \"age\" set to $10$ kyr. If you run the code block, a figure will be produced that shows the initial shape of the scarp as well as a model prediction for what the scarp would look like after a time of 10 kyr."
   ]
  },
  {
   "cell_type": "code",
   "execution_count": null,
   "metadata": {},
   "outputs": [],
   "source": [
    "D=3;                                        # Colluvial transport coefficient [m^2/kyr] (i.e. landscape diffusivity)\n",
    "age=10;                                      # Age of the simulated scarp [kyr]\n",
    "\n",
    "# !! YOU DO NOT NEED TO MODIFY THE CODE BELOW THIS LINE !! \n",
    "from diffusion1d import scarp\n",
    "[distance,elevation]=scarp(D,age)\n",
    "\n",
    "import numpy as np\n",
    "itopo=np.loadtxt('scarptopo1m.txt')\n",
    "\n",
    "import matplotlib.pyplot as plt\n",
    "plt.plot(distance,elevation,'b-',label=\"Modeled Topography\")\n",
    "plt.plot(distance,itopo,'--',color='tab:gray',label=\"Initial Topography\")\n",
    "plt.xlabel('Distance (m)', fontsize=14)\n",
    "plt.ylabel('Elevation (m)', fontsize=14)\n",
    "plt.title('Scarp after '+str(round(age,2))+' kyr', fontsize=16)\n",
    "plt.legend(loc=\"upper right\", fontsize=12)\n",
    "plt.show()"
   ]
  },
  {
   "cell_type": "markdown",
   "metadata": {},
   "source": [
    "Notice that there was eroion near the top of the scarp and deposition at the bottom. Topographic changes are the most extreme where there are large changes in slope! \n",
    "\n",
    "Would the scarp look substantially different if it were located in a different location where hillslope sediment transport processes were more efficient and $D=20$ $\\mathrm{m}^2/\\mathrm{kyr}$? Change the value of D to $20$ in the code block below and then run the code to find out."
   ]
  },
  {
   "cell_type": "code",
   "execution_count": null,
   "metadata": {},
   "outputs": [],
   "source": [
    "D=20;                                        # Colluvial transport coefficient [m^2/kyr] (i.e. landscape diffusivity)\n",
    "age=10;                                      # Age of the simulated scarp [kyr]\n",
    "\n",
    "# !! YOU DO NOT NEED TO MODIFY THE CODE BELOW THIS LINE !! \n",
    "from diffusion1d import scarp\n",
    "[distance,elevation]=scarp(D,age)\n",
    "\n",
    "import numpy as np\n",
    "itopo=np.loadtxt('scarptopo1m.txt')\n",
    "\n",
    "import matplotlib.pyplot as plt\n",
    "plt.plot(distance,elevation,'b-',label=\"Modeled Topography\")\n",
    "plt.plot(distance,itopo,'--',color='tab:gray',label=\"Initial Topography\")\n",
    "plt.xlabel('Distance (m)', fontsize=14)\n",
    "plt.ylabel('Elevation (m)', fontsize=14)\n",
    "plt.title('Scarp after '+str(round(age,2))+' kyr', fontsize=16)\n",
    "plt.legend(loc=\"upper right\", fontsize=12)\n",
    "plt.show()"
   ]
  }
 ],
 "metadata": {
  "kernelspec": {
   "display_name": "Python 3",
   "language": "python",
   "name": "python3"
  },
  "language_info": {
   "codemirror_mode": {
    "name": "ipython",
    "version": 3
   },
   "file_extension": ".py",
   "mimetype": "text/x-python",
   "name": "python",
   "nbconvert_exporter": "python",
   "pygments_lexer": "ipython3",
   "version": "3.7.0"
  }
 },
 "nbformat": 4,
 "nbformat_minor": 2
}
